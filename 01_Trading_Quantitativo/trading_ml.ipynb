# 📈 Machine Learning para Trading Cuantitativo
# Este notebook implementa un modelo de ML que predice si el precio de una acción subirá o bajará.

# 1️⃣ Importar librerías necesarias
import pandas as pd
import numpy as np
import yfinance as yf
import matplotlib.pyplot as plt
from sklearn.model_selection import train_test_split
from sklearn.preprocessing import StandardScaler
from sklearn.ensemble import RandomForestClassifier
from sklearn.metrics import accuracy_score, classification_report

# 2️⃣ Descargar datos históricos de una acción (Ejemplo: Apple - AAPL)
ticker = "AAPL"
data = yf.download(ticker, start="2020-01-01", end="2024-01-01")

# 3️⃣ Crear las variables predictoras (features)
data["Return"] = data["Adj Close"].pct_change()
data["Volatility"] = data["Return"].rolling(window=5).std()
data["Momentum"] = data["Adj Close"] / data["Adj Close"].shift(5) - 1

# 4️⃣ Definir la variable objetivo (1 = Subida, 0 = Bajada)
data["Target"] = np.where(data["Adj Close"].shift(-1) > data["Adj Close"], 1, 0)

# 5️⃣ Limpiar datos
data = data.dropna()

# 6️⃣ Dividir en datos de entrenamiento y prueba
features = ["Return", "Volatility", "Momentum"]
X = data[features]
y = data["Target"]

X_train, X_test, y_train, y_test = train_test_split(X, y, test_size=0.2, random_state=42)

# 7️⃣ Normalizar datos
scaler = StandardScaler()
X_train_scaled = scaler.fit_transform(X_train)
X_test_scaled = scaler.transform(X_test)

# 8️⃣ Entrenar modelo de Machine Learning
model = RandomForestClassifier(n_estimators=100, random_state=42)
model.fit(X_train_scaled, y_train)

# 9️⃣ Evaluar el modelo
y_pred = model.predict(X_test_scaled)
accuracy = accuracy_score(y_test, y_pred)

# 🔥 Mostrar resultados
print(f"✅ Precisión del modelo: {accuracy:.2f}")
print(classification_report(y_test, y_pred))

# 🔟 Visualizar predicciones
plt.figure(figsize=(12,5))
plt.plot(data.index[-len(y_test):], y_test, label="Real", marker="o")
plt.plot(data.index[-len(y_test):], y_pred, label="Predicho", marker="x")
plt.legend()
plt.title("Predicción de Tendencias en el Precio de AAPL")
plt.show()
