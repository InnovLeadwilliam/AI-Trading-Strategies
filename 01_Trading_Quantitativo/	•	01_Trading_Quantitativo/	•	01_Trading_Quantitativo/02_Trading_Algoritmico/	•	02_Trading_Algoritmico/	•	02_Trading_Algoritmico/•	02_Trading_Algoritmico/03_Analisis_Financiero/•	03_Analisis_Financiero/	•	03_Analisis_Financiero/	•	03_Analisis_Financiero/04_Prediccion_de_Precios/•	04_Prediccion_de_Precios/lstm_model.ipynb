# 📊 Predicción de Precios con LSTM
# Este notebook implementa un modelo LSTM para predecir precios de acciones.

# 1️⃣ Importar librerías necesarias
import numpy as np
import pandas as pd
import yfinance as yf
import matplotlib.pyplot as plt
import tensorflow as tf
from tensorflow import keras
from sklearn.preprocessing import MinMaxScaler

# 2️⃣ Descargar datos históricos (Ejemplo: AAPL)
ticker = "AAPL"
data = yf.download(ticker, start="2020-01-01", end="2024-01-01")["Adj Close"]

# 3️⃣ Normalizar datos
scaler = MinMaxScaler(feature_range=(0,1))
data_scaled = scaler.fit_transform(data.values.reshape(-1,1))

# 4️⃣ Crear secuencias de datos para LSTM
def create_sequences(data, time_steps=50):
    X, y = [], []
    for i in range(len(data) - time_steps):
        X.append(data[i:i+time_steps])
        y.append(data[i+time_steps])
    return np.array(X), np.array(y)

time_steps = 50
X, y = create_sequences(data_scaled, time_steps)

# 5️⃣ Dividir en datos de entrenamiento y prueba
split = int(len(X) * 0.8)
X_train, y_train = X[:split], y[:split]
X_test, y_test = X[split:], y[split:]

# 6️⃣ Construir la Red Neuronal LSTM
model = keras.Sequential([
    keras.layers.LSTM(50, return_sequences=True, input_shape=(time_steps, 1)),
    keras.layers.LSTM(50, return_sequences=False),
    keras.layers.Dense(25),
    keras.layers.Dense(1)
])

# 7️⃣ Compilar el modelo
model.compile(optimizer="adam", loss="mean_squared_error")

# 🔟 Entrenar la Red Neuronal
history = model.fit(X_train, y_train, epochs=50, batch_size=16, validation_data=(X_test, y_test))

# 🔥 Evaluar modelo
loss = model.evaluate(X_test, y_test)
print(f"📉 Pérdida (MSE) en test: {loss:.4f}")

# 📈 Predecir valores futuros
y_pred = model.predict(X_test)
y_pred = scaler.inverse_transform(y_pred)

# 🔥 Visualizar Predicciones vs. Valores Reales
plt.figure(figsize=(10,5))
plt.plot(data.index[-len(y_test):], scaler.inverse_transform(y_test.reshape(-1,1)), label="Real", color="blue")
plt.plot(data.index[-len(y_test):], y_pred, label="Predicho", linestyle="dashed", color="red")
plt.title("📊 Predicción de Precios con LSTM")
plt.xlabel("Fecha")
plt.ylabel("Precio")
plt.legend()
plt.show()
