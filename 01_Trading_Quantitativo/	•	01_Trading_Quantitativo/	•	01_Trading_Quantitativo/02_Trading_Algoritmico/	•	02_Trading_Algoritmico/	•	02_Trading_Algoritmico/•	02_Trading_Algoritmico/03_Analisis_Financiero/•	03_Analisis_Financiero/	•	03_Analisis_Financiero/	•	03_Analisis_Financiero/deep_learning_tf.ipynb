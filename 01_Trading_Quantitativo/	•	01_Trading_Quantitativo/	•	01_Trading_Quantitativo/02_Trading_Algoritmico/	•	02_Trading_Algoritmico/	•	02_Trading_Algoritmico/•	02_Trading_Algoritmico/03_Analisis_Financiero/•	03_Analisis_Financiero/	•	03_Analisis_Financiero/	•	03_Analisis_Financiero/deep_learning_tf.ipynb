# 📊 Predicción de Precios con Deep Learning en TensorFlow
# Este notebook entrena una Red Neuronal para predecir precios de acciones.

# 1️⃣ Importar librerías necesarias
import pandas as pd
import numpy as np
import yfinance as yf
import matplotlib.pyplot as plt
import tensorflow as tf
from tensorflow import keras
from sklearn.model_selection import train_test_split
from sklearn.preprocessing import MinMaxScaler

# 2️⃣ Descargar datos históricos (Ejemplo: AAPL)
ticker = "AAPL"
data = yf.download(ticker, start="2020-01-01", end="2024-01-01")

# 3️⃣ Crear variables predictoras (features)
data["Return"] = data["Adj Close"].pct_change()
data["Volatility"] = data["Return"].rolling(window=5).std()
data["Momentum"] = data["Adj Close"] - data["Adj Close"].shift(10)
data.dropna(inplace=True)

# 4️⃣ Definir variable objetivo (precio futuro)
data["Target"] = data["Adj Close"].shift(-1)
X = data[["Return", "Volatility", "Momentum"]]
y = data["Target"]

# 5️⃣ Dividir en datos de entrenamiento y prueba
X_train, X_test, y_train, y_test = train_test_split(X, y, test_size=0.2, random_state=42)

# 6️⃣ Normalizar datos
scaler = MinMaxScaler()
X_train_scaled = scaler.fit_transform(X_train)
X_test_scaled = scaler.transform(X_test)

# 7️⃣ Construir la Red Neuronal con TensorFlow
model = keras.Sequential([
    keras.layers.Dense(64, activation="relu", input_shape=(X_train_scaled.shape[1],)),
    keras.layers.Dense(64, activation="relu"),
    keras.layers.Dense(1)
])

# 8️⃣ Compilar el modelo
model.compile(optimizer="adam", loss="mean_squared_error")

# 🔟 Entrenar la Red Neuronal
history = model.fit(X_train_scaled, y_train, epochs=50, batch_size=16, validation_data=(X_test_scaled, y_test))

# 🔥 Evaluar modelo
loss = model.evaluate(X_test_scaled, y_test)
print(f"📉 Pérdida (MSE) en test: {loss:.4f}")

# 📈 Visualizar el entrenamiento
plt.figure(figsize=(10,5))
plt.plot(history.history["loss"], label="Pérdida en Entrenamiento")
plt.plot(history.history["val_loss"], label="Pérdida en Validación")
plt.title("📊 Evolución del Entrenamiento de la Red Neuronal")
plt.xlabel("Épocas")
plt.ylabel("Pérdida (MSE)")
plt.legend()
plt.show()

# 📉 Predecir valores futuros
y_pred = model.predict(X_test_scaled)

# 🔥 Visualizar Predicciones vs. Valores Reales
plt.figure(figsize=(10,5))
plt.plot(y_test.index, y_test, label="Real", color="blue")
plt.plot(y_test.index, y_pred, label="Predicho", linestyle="dashed", color="red")
plt.title("📊 Predicción de Precios con Deep Learning")
plt.xlabel("Fecha")
plt.ylabel("Precio")
plt.legend()
plt.show()
