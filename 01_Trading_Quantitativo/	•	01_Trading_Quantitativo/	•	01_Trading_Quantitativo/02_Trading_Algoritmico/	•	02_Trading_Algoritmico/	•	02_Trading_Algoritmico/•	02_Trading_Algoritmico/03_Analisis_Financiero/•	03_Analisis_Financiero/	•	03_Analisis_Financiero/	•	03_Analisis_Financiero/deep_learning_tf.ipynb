# Notebook de análisis financiero con NumPy
# Modelos de Machine Learning para análisis financiero con Scikit-learn
# Modelos avanzados de Deep Learning para análisis financiero con TensorFlow
