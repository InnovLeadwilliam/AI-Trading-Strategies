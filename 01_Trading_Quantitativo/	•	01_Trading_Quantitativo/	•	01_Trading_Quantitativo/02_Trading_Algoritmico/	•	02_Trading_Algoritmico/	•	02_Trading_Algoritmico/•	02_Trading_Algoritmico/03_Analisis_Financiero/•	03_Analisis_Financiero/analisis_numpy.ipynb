# 📊 Análisis Financiero con NumPy
# Este notebook calcula métricas de rentabilidad y riesgo en acciones usando NumPy.

# 1️⃣ Importar librerías necesarias
import numpy as np
import pandas as pd
import yfinance as yf
import matplotlib.pyplot as plt

# 2️⃣ Descargar datos históricos (Ejemplo: AAPL)
ticker = "AAPL"
data = yf.download(ticker, start="2020-01-01", end="2024-01-01")["Adj Close"]

# 3️⃣ Calcular Retornos Diarios con NumPy
returns = np.diff(data) / data[:-1]
mean_return = np.mean(returns)
volatility = np.std(returns)

print(f"📊 Retorno Medio Diario: {mean_return:.4f}")
print(f"⚠️ Volatilidad Diaria: {volatility:.4f}")

# 4️⃣ Calcular Rentabilidad Acumulada
cumulative_returns = np.cumprod(1 + returns) - 1

# 5️⃣ Visualizar Retornos y Rentabilidad Acumulada
plt.figure(figsize=(12,5))
plt.plot(data.index[1:], cumulative_returns, label="Rentabilidad Acumulada", color="green")
plt.title("📈 Rentabilidad Acumulada de AAPL")
plt.xlabel("Fecha")
plt.ylabel("Rentabilidad")
plt.legend()
plt.show()

# 6️⃣ Simulación Monte Carlo para Predecir Precios Futuros
simulations = 1000
days = 252
simulated_returns = np.random.normal(mean_return, volatility, (days, simulations))
simulated_prices = np.zeros((days, simulations))
simulated_prices[0] = data.iloc[-1]

for t in range(1, days):
    simulated_prices[t] = simulated_prices[t-1] * (1 + simulated_returns[t])

# 🔥 Visualizar Simulación Monte Carlo
plt.figure(figsize=(12,6))
plt.plot(simulated_prices, alpha=0.2, color="blue")
plt.title("📊 Simulación Monte Carlo de Precios Futuros")
plt.xlabel("Días")
plt.ylabel("Precio Simulado")
plt.show()
