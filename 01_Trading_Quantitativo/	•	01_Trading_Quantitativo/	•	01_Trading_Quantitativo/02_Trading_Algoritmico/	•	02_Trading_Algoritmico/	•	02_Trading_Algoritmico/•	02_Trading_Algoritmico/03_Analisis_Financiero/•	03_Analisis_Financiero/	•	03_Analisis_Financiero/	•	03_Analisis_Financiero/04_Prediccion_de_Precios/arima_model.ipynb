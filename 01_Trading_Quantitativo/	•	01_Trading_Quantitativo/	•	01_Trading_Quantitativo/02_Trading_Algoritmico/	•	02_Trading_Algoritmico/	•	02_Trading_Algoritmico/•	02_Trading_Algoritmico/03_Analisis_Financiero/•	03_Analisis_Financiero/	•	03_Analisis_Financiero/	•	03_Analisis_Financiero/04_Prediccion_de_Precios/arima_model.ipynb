# 📊 Predicción de Precios con ARIMA
# Este notebook implementa un modelo ARIMA para predecir precios de acciones.

# 1️⃣ Importar librerías necesarias
import pandas as pd
import numpy as np
import yfinance as yf
import matplotlib.pyplot as plt
from statsmodels.tsa.arima.model import ARIMA
from statsmodels.graphics.tsaplots import plot_acf, plot_pacf

# 2️⃣ Descargar datos históricos (Ejemplo: AAPL)
ticker = "AAPL"
data = yf.download(ticker, start="2020-01-01", end="2024-01-01")["Adj Close"]

# 3️⃣ Visualizar los precios históricos
plt.figure(figsize=(12,6))
plt.plot(data, label="Precio Ajustado")
plt.title("📈 Precio de Cierre de AAPL")
plt.xlabel("Fecha")
plt.ylabel("Precio")
plt.legend()
plt.show()

# 4️⃣ Análisis de Autocorrelación
plot_acf(data.dropna(), lags=30)
plot_pacf(data.dropna(), lags=30)
plt.show()

# 5️⃣ Definir el modelo ARIMA (p,d,q)
modelo = ARIMA(data, order=(5,1,2))
modelo_entrenado = modelo.fit()

# 6️⃣ Realizar predicciones
predicciones = modelo_entrenado.forecast(steps=30)

# 🔥 Visualizar predicciones
plt.figure(figsize=(12,6))
plt.plot(data.index, data, label="Real", color="blue")
plt.plot(pd.date_range(start=data.index[-1], periods=30, freq='D'), predicciones, label="Predicción", linestyle="dashed", color="red")
plt.title("📊 Predicción de Precios con ARIMA")
plt.xlabel("Fecha")
plt.ylabel("Precio")
plt.legend()
plt.show()

# 7️⃣ Evaluar el modelo
residuales = modelo_entrenado.resid
plt.figure(figsize=(10,5))
plt.hist(residuales, bins=30, color="purple", alpha=0.7)
plt.title("📉 Distribución de Residuales del Modelo ARIMA")
plt.xlabel("Error")
plt.ylabel("Frecuencia")
plt.show()
