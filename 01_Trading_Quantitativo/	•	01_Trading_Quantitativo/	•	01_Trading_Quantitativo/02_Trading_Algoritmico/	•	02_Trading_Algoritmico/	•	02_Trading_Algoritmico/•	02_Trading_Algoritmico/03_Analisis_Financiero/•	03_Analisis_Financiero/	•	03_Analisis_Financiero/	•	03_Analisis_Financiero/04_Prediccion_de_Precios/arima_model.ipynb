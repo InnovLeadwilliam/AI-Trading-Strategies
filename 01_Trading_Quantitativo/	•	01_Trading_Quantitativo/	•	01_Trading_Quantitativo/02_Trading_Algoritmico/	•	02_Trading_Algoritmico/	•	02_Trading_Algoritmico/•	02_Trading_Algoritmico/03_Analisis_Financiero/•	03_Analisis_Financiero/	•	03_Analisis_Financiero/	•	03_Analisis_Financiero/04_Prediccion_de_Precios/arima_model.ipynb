# Notebook de predicción de precios con ARIMA
