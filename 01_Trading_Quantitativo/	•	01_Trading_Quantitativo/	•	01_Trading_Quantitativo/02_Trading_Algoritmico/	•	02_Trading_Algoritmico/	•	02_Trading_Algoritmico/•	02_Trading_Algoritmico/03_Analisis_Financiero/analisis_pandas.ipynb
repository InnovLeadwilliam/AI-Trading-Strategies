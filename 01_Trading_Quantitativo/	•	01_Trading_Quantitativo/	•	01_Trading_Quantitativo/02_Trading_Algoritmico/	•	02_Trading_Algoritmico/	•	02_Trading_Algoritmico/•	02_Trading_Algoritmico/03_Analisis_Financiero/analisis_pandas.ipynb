# 📊 Análisis Financiero con Pandas
# Este notebook analiza datos históricos de acciones usando Pandas.

# 1️⃣ Importar librerías necesarias
import pandas as pd
import numpy as np
import yfinance as yf
import matplotlib.pyplot as plt
import seaborn as sns

# 2️⃣ Descargar datos históricos de una acción (Ejemplo: AAPL)
ticker = "AAPL"
data = yf.download(ticker, start="2020-01-01", end="2024-01-01")

# 3️⃣ Mostrar primeras filas del dataset
print("📌 Datos descargados:")
print(data.head())

# 4️⃣ Cálculo de Retornos Diarios
data["Daily Return"] = data["Adj Close"].pct_change()

# 5️⃣ Cálculo de Media y Volatilidad
mean_return = data["Daily Return"].mean()
volatility = data["Daily Return"].std()
print(f"📊 Media de retornos diarios: {mean_return:.4f}")
print(f"⚠️ Volatilidad diaria: {volatility:.4f}")

# 6️⃣ Visualizar los precios históricos
plt.figure(figsize=(12,6))
plt.plot(data.index, data["Adj Close"], label="Precio Ajustado", color="blue")
plt.title("📈 Evolución del Precio de AAPL")
plt.xlabel("Fecha")
plt.ylabel("Precio")
plt.legend()
plt.show()

# 7️⃣ Histograma de Retornos Diarios
plt.figure(figsize=(10,5))
sns.histplot(data["Daily Return"].dropna(), bins=50, kde=True, color="purple")
plt.title("📊 Distribución de Retornos Diarios de AAPL")
plt.xlabel("Retorno Diario")
plt.ylabel("Frecuencia")
plt.show()
