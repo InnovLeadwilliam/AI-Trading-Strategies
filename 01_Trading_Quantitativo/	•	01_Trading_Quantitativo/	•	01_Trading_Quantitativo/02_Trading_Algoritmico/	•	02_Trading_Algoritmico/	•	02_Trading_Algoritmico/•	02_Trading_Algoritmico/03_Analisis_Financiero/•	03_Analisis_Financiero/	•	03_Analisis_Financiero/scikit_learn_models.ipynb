# 📊 Modelos de Predicción de Precios con Scikit-Learn
# Este notebook implementa modelos de predicción de precios de acciones usando Scikit-Learn.

# 1️⃣ Importar librerías necesarias
import pandas as pd
import numpy as np
import yfinance as yf
import matplotlib.pyplot as plt
from sklearn.model_selection import train_test_split
from sklearn.preprocessing import StandardScaler
from sklearn.linear_model import LinearRegression
from sklearn.ensemble import RandomForestClassifier
from sklearn.metrics import accuracy_score, mean_absolute_error

# 2️⃣ Descargar datos históricos (Ejemplo: AAPL)
ticker = "AAPL"
data = yf.download(ticker, start="2020-01-01", end="2024-01-01")

# 3️⃣ Crear variables predictoras (features)
data["Return"] = data["Adj Close"].pct_change()
data["Volatility"] = data["Return"].rolling(window=5).std()
data["Momentum"] = data["Adj Close"] - data["Adj Close"].shift(10)
data.dropna(inplace=True)

# 4️⃣ Definir variable objetivo para regresión (precio futuro)
data["Target"] = data["Adj Close"].shift(-1)
X = data[["Return", "Volatility", "Momentum"]]
y_reg = data["Target"]

# 5️⃣ Dividir en datos de entrenamiento y prueba
X_train, X_test, y_train, y_test = train_test_split(X, y_reg, test_size=0.2, random_state=42)

# 6️⃣ Normalizar datos
scaler = StandardScaler()
X_train_scaled = scaler.fit_transform(X_train)
X_test_scaled = scaler.transform(X_test)

# 7️⃣ Entrenar modelo de regresión lineal
model_reg = LinearRegression()
model_reg.fit(X_train_scaled, y_train)

# 8️⃣ Evaluar modelo de regresión
y_pred = model_reg.predict(X_test_scaled)
mae = mean_absolute_error(y_test, y_pred)
print(f"📈 Error medio absoluto en regresión: {mae:.4f}")

# 🔥 Visualizar predicciones
plt.figure(figsize=(10,5))
plt.plot(y_test.index, y_test, label="Real", color="blue")
plt.plot(y_test.index, y_pred, label="Predicho", linestyle="dashed", color="red")
plt.title("📊 Predicción de precios con Regresión Lineal")
plt.xlabel("Fecha")
plt.ylabel("Precio")
plt.legend()
plt.show()

# 9️⃣ Definir variable objetivo para clasificación (subida/bajada)
data["Direction"] = (data["Return"] > 0).astype(int)
y_clf = data["Direction"]
X_train, X_test, y_train, y_test = train_test_split(X, y_clf, test_size=0.2, random_state=42)

# 🔟 Entrenar modelo de clasificación (Random Forest)
model_clf = RandomForestClassifier(n_estimators=100, random_state=42)
model_clf.fit(X_train_scaled, y_train)

# 🔥 Evaluar modelo de clasificación
y_pred_clf = model_clf.predict(X_test_scaled)
accuracy = accuracy_score(y_test, y_pred_clf)
print(f"✅ Precisión en clasificación: {accuracy:.4f}")
