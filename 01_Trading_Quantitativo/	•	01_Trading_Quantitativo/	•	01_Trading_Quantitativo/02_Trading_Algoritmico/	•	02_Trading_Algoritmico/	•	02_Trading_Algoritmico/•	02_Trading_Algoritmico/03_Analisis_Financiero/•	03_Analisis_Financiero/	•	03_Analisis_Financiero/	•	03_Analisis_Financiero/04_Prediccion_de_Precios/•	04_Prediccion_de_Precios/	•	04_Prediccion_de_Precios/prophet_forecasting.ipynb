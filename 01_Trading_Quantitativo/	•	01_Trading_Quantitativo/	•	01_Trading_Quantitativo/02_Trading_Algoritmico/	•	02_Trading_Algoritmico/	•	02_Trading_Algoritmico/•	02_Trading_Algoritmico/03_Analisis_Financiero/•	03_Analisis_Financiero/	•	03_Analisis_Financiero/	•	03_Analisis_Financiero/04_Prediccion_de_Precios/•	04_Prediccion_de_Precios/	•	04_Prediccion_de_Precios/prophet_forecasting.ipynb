# Modelo LSTM para predicción de precios en trading
# Predicción de precios con Facebook Prophet
