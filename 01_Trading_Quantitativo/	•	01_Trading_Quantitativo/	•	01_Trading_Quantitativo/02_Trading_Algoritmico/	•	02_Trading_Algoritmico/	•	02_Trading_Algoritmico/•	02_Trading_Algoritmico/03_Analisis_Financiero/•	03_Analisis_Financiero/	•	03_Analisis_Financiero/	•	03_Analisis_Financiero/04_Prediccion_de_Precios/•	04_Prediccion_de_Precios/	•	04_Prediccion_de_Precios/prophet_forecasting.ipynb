# 📊 Predicción de Precios con Facebook Prophet
# Este notebook implementa un modelo Prophet para predecir tendencias futuras en precios de acciones.

# 1️⃣ Importar librerías necesarias
import pandas as pd
import numpy as np
import yfinance as yf
import matplotlib.pyplot as plt
from prophet import Prophet

# 2️⃣ Descargar datos históricos (Ejemplo: AAPL)
ticker = "AAPL"
data = yf.download(ticker, start="2015-01-01", end="2024-01-01")["Adj Close"]

# 3️⃣ Preparar datos para Prophet
df = data.reset_index()
df = df.rename(columns={"Date": "ds", "Adj Close": "y"})

# 4️⃣ Definir modelo Prophet
model = Prophet(daily_seasonality=True)
model.fit(df)

# 5️⃣ Generar predicciones para los próximos 6 meses
future = model.make_future_dataframe(periods=180)
forecast = model.predict(future)

# 6️⃣ Visualizar predicción
plt.figure(figsize=(12,6))
plt.plot(df["ds"], df["y"], label="Histórico", color="blue")
plt.plot(forecast["ds"], forecast["yhat"], label="Predicción", linestyle="dashed", color="red")
plt.fill_between(forecast["ds"], forecast["yhat_lower"], forecast["yhat_upper"], alpha=0.2, color="gray")
plt.title("📊 Predicción de Precios con Facebook Prophet")
plt.xlabel("Fecha")
plt.ylabel("Precio")
plt.legend()
plt.show()

# 🔍 Visualización detallada de componentes de la predicción
model.plot_components(forecast)
plt.show()
