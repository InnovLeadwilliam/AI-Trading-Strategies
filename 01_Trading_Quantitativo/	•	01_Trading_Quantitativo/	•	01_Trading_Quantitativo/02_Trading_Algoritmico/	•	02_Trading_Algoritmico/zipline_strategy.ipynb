# 📈 Estrategia de Trading Algorítmico con Zipline
# Implementamos una estrategia basada en el cruce de medias móviles.

# 1️⃣ Importar librerías necesarias
import zipline
from zipline.api import order, record, symbol
import pandas as pd
import matplotlib.pyplot as plt
from zipline.api import order_target, record, symbol
from zipline import run_algorithm
import pytz
from datetime import datetime
import numpy as np

# 2️⃣ Definir la estrategia de cruce de medias móviles
def initialize(context):
    context.asset = symbol("AAPL")

def handle_data(context, data):
    short_mavg = data.history(context.asset, 'price', 10, '1d').mean()
    long_mavg = data.history(context.asset, 'price', 50, '1d').mean()

    if short_mavg > long_mavg:
        order_target(context.asset, 10)
    elif short_mavg < long_mavg:
        order_target(context.asset, 0)

    record(AAPL=data.current(context.asset, "price"),
           short_mavg=short_mavg,
           long_mavg=long_mavg)

# 3️⃣ Descargar datos históricos de Yahoo Finance
start = datetime(2020, 1, 1, tzinfo=pytz.UTC)
end = datetime(2024, 1, 1, tzinfo=pytz.UTC)

data = pd.read_csv("https://query1.finance.yahoo.com/v7/finance/download/AAPL?period1=1577836800&period2=1704067200&interval=1d&events=history")
data = data.set_index("Date")
data.index = pd.to_datetime(data.index).tz_localize("UTC")

# 4️⃣ Ejecutar el backtesting
perf = run_algorithm(start=start, end=end, initialize=initialize, handle_data=handle_data, capital_base=10_000, data_frequency='daily', data=data)

# 🔥 Visualizar resultados
plt.figure(figsize=(12,6))
plt.plot(perf.index, perf.portfolio_value)
plt.title("Estrategia de trading con Zipline")
plt.xlabel("Fecha")
plt.ylabel("Valor del portafolio")
plt.show()
