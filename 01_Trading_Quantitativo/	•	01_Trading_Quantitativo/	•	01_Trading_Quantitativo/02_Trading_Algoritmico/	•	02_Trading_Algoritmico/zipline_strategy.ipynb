# Notebook de estrategia de backtesting con Zipline
