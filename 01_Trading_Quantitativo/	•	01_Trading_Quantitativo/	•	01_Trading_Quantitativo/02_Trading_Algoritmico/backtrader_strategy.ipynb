# 📈 Estrategia de Trading Algorítmico con Backtrader
# Implementamos una estrategia basada en el cruce de medias móviles.

# 1️⃣ Importar librerías necesarias
import backtrader as bt
import pandas as pd
import yfinance as yf

# 2️⃣ Descargar datos históricos (Ejemplo: AAPL)
ticker = "AAPL"
data = yf.download(ticker, start="2020-01-01", end="2024-01-01")

# 3️⃣ Convertir datos a formato Backtrader
class PandasData(bt.feeds.PandasData):
    params = (("datetime", None), ("open", -1), ("high", -1),
              ("low", -1), ("close", 0), ("volume", -1), ("openinterest", -1))

data_bt = PandasData(dataname=data)

# 4️⃣ Definir la estrategia de cruce de medias móviles
class MovingAverageCrossStrategy(bt.Strategy):
    params = (("short_period", 10), ("long_period", 50),)

    def __init__(self):
        self.short_ma = bt.indicators.SimpleMovingAverage(self.data.close, period=self.params.short_period)
        self.long_ma = bt.indicators.SimpleMovingAverage(self.data.close, period=self.params.long_period)

    def next(self):
        if self.short_ma[0] > self.long_ma[0] and not self.position:
            self.buy()
        elif self.short_ma[0] < self.long_ma[0] and self.position:
            self.sell()

# 5️⃣ Configurar el backtesting
cerebro = bt.Cerebro()
cerebro.addstrategy(MovingAverageCrossStrategy)
cerebro.adddata(data_bt)
cerebro.broker.set_cash(10_000)
cerebro.addsizer(bt.sizers.FixedSize, stake=10)

# 6️⃣ Ejecutar el backtest
print("Saldo inicial:", cerebro.broker.getvalue())
cerebro.run()
print("Saldo final:", cerebro.broker.getvalue())

# 🔥 Visualizar el resultado
cerebro.plot()
