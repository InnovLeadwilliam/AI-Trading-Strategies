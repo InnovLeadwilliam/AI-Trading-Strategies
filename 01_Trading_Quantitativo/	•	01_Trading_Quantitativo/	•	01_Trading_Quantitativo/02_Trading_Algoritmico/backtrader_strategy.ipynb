# Notebook de estrategia de backtesting con Backtrader
